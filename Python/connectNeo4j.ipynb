{
 "cells": [
  {
   "cell_type": "code",
   "execution_count": 1,
   "metadata": {},
   "outputs": [],
   "source": [
    "import csv\n",
    "import ast\n",
    "from collections import defaultdict\n",
    "from neo4j import GraphDatabase"
   ]
  },
  {
   "cell_type": "code",
   "execution_count": 2,
   "metadata": {},
   "outputs": [],
   "source": [
    "uri = \"bolt://10.2.42.255:7687\"  # Change this to your Neo4j instance URI\n",
    "username = \"neo4j\"             # Replace with your username\n",
    "password = \"pass12345\"          # Replace with your password\n",
    "driver = GraphDatabase.driver(uri, auth=(username, password))"
   ]
  },
  {
   "cell_type": "markdown",
   "metadata": {},
   "source": [
    "## Importing entities onto neo4j"
   ]
  },
  {
   "cell_type": "code",
   "execution_count": 3,
   "metadata": {},
   "outputs": [],
   "source": [
    "# Initialize data structures\n",
    "entity_set = set()\n",
    "relationship_dict = defaultdict(int)\n",
    "\n",
    "# Read and process the CSV file\n",
    "with open('output_final.csv', newline='', encoding='utf-8') as csvfile:\n",
    "    reader = csv.DictReader(csvfile)\n",
    "    row_count = 0\n",
    "    for row in reader:\n",
    "        if row_count >= 5:  # Stop after processing five rows\n",
    "            break\n",
    "        entities_str = row['Entities']\n",
    "        # Safely parse the string to a list\n",
    "        entities_list = ast.literal_eval(entities_str)\n",
    "        # Remove duplicates within the same article\n",
    "        entity_set_in_article = set()\n",
    "        for entity_name, entity_type in entities_list:\n",
    "            entity_set_in_article.add((entity_name, entity_type))\n",
    "            entity_set.add((entity_name, entity_type))\n",
    "        entities = list(entity_set_in_article)\n",
    "        # Generate all unique pairs of entities in the article\n",
    "        for i in range(len(entities)):\n",
    "            for j in range(i + 1, len(entities)):\n",
    "                entity1_name, entity1_type = entities[i]\n",
    "                entity2_name, entity2_type = entities[j]\n",
    "                # Order entities to avoid duplicate relationships\n",
    "                if entity1_name > entity2_name:\n",
    "                    entity1_name, entity2_name = entity2_name, entity1_name\n",
    "                    entity1_type, entity2_type = entity2_type, entity1_type\n",
    "                key = (entity1_name, entity1_type, entity2_name, entity2_type)\n",
    "                relationship_dict[key] += 1\n",
    "        row_count += 1\n",
    "\n",
    "# Function to batch execute queries\n",
    "def batch_executor(session, queries):\n",
    "    tx = session.begin_transaction()\n",
    "    for query, params in queries:\n",
    "        tx.run(query, **params)\n",
    "    tx.commit()\n",
    "\n",
    "with driver.session() as session:\n",
    "    # Batch create nodes\n",
    "    node_queries = []\n",
    "    for entity_name, entity_type in entity_set:\n",
    "        node_query = (\n",
    "            \"MERGE (e:Entity {name: $name}) \"\n",
    "            \"ON CREATE SET e.type = $type\",\n",
    "            {'name': entity_name, 'type': entity_type}\n",
    "        )\n",
    "        node_queries.append(node_query)\n",
    "    batch_executor(session, node_queries)\n",
    "\n",
    "    # Batch create/update relationships\n",
    "    rel_queries = []\n",
    "    for key, weight in relationship_dict.items():\n",
    "        entity1_name, entity1_type, entity2_name, entity2_type = key\n",
    "        rel_query = (\n",
    "            \"MATCH (e1:Entity {name: $name1}), (e2:Entity {name: $name2}) \"\n",
    "            \"MERGE (e1)-[r:CO_OCCURS_WITH]->(e2) \"\n",
    "            \"SET r.weight = coalesce(r.weight, 0) + $weight\",\n",
    "            {'name1': entity1_name, 'name2': entity2_name, 'weight': weight}\n",
    "        )\n",
    "        rel_queries.append(rel_query)\n",
    "    batch_executor(session, rel_queries)\n",
    "\n",
    "driver.close()\n"
   ]
  },
  {
   "cell_type": "code",
   "execution_count": null,
   "metadata": {},
   "outputs": [],
   "source": []
  }
 ],
 "metadata": {
  "kernelspec": {
   "display_name": ".venv",
   "language": "python",
   "name": "python3"
  },
  "language_info": {
   "codemirror_mode": {
    "name": "ipython",
    "version": 3
   },
   "file_extension": ".py",
   "mimetype": "text/x-python",
   "name": "python",
   "nbconvert_exporter": "python",
   "pygments_lexer": "ipython3",
   "version": "3.10.15"
  }
 },
 "nbformat": 4,
 "nbformat_minor": 2
}
