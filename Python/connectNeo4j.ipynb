{
 "cells": [
  {
   "cell_type": "code",
   "execution_count": 2,
   "metadata": {},
   "outputs": [],
   "source": [
    "import csv\n",
    "import ast\n",
    "from collections import defaultdict\n",
    "from neo4j import GraphDatabase\n",
    "from concurrent.futures import ThreadPoolExecutor"
   ]
  },
  {
   "cell_type": "code",
   "execution_count": 3,
   "metadata": {},
   "outputs": [],
   "source": [
    "username = \"neo4j\"                                                # Replace with your username\n",
    "password = \"psWY56eXOUhccUjztpdUmnK8kd7E8FA1j4TlUOvEl5c\"          # Replace with your password\n",
    "driver = GraphDatabase.driver(\"neo4j+s://104e8e94.databases.neo4j.io\", auth=(username, password))"
   ]
  },
  {
   "cell_type": "markdown",
   "metadata": {},
   "source": [
    "## Importing entities onto neo4j"
   ]
  },
  {
   "cell_type": "code",
   "execution_count": 4,
   "metadata": {},
   "outputs": [],
   "source": [
    "def create_graph(entities_file, cooccurrences_file):\n",
    "    # Create nodes and relationships in Neo4j\n",
    "    with driver.session() as session:\n",
    "        # print(\"Conenction Established!\")\n",
    "        # # Load entities\n",
    "        # with open(entities_file, 'r') as f:\n",
    "        #     csv_reader = csv.DictReader(f)\n",
    "        #     for row in csv_reader:\n",
    "        #         print(row)\n",
    "        #         # Create entity nodes\n",
    "        #         session.run(\"\"\"\n",
    "        #             MERGE (e:Entity {name: $name, type: $type})\n",
    "        #         \"\"\", name=row['entity'], type=row['type'])\n",
    "                \n",
    "        # Load co-occurrences\n",
    "        with open(cooccurrences_file, 'r') as f:\n",
    "            csv_reader = csv.DictReader(f)\n",
    "            for row in csv_reader:\n",
    "                # Create relationships between entities\n",
    "                session.run(\"\"\"\n",
    "                    MATCH (e1:Entity {name: $entity1}), (e2:Entity {name: $entity2})\n",
    "                    MERGE (e1)-[r:CO_OCCURS_WITH]->(e2)\n",
    "                    ON CREATE SET r.weight = $weight\n",
    "                    ON MATCH SET r.weight = r.weight + $weight\n",
    "                \"\"\", entity1=row['entity1'], entity2=row['entity2'], weight=int(row['weight']))"
   ]
  },
  {
   "cell_type": "code",
   "execution_count": 5,
   "metadata": {},
   "outputs": [],
   "source": [
    "def create_graph_parallel(entities_file, cooccurrences_file, batch_size=1000):\n",
    "    with driver.session() as session:\n",
    "        # print(\"Conenction Established!\")\n",
    "        # # Load entities\n",
    "        # with open(entities_file, 'r') as f:\n",
    "        #     csv_reader = csv.DictReader(f)\n",
    "        #     for row in csv_reader:\n",
    "        #         print(row)\n",
    "        #         # Create entity nodes\n",
    "        #         session.run(\"\"\"\n",
    "        #             MERGE (e:Entity {name: $name, type: $type})\n",
    "        #         \"\"\", name=row['entity'], type=row['type'])\n",
    "        \n",
    "        with open(cooccurrences_file, 'r') as f:\n",
    "            csv_reader = csv.DictReader(f)\n",
    "            batch = []\n",
    "            for row in csv_reader:\n",
    "                # Append each row to the batch\n",
    "                batch.append({\n",
    "                    'entity1': row['entity1'],\n",
    "                    'entity2': row['entity2'],\n",
    "                    'weight': int(row['weight'])\n",
    "                })\n",
    "\n",
    "                # Process batch when size reaches batch_size\n",
    "                if len(batch) == batch_size:\n",
    "                    _process_batch(session, batch)\n",
    "                    batch = []  # Reset batch\n",
    "\n",
    "            # Process remaining rows\n",
    "            if batch:\n",
    "                _process_batch(session, batch)"
   ]
  },
  {
   "cell_type": "code",
   "execution_count": 6,
   "metadata": {},
   "outputs": [],
   "source": [
    "def _process_batch(session, batch):\n",
    "    # Helper function to process a batch of rows\n",
    "    session.write_transaction(_write_relationships, batch)\n",
    "\n",
    "def _write_relationships(tx, batch):\n",
    "    # Use an UNWIND query to handle multiple rows in a single transaction\n",
    "    query = \"\"\"\n",
    "        UNWIND $rows AS row\n",
    "        MATCH (e1:Entity {name: row.entity1}), (e2:Entity {name: row.entity2})\n",
    "        MERGE (e1)-[r:CO_OCCURS_WITH]->(e2)\n",
    "        ON CREATE SET r.weight = row.weight\n",
    "        ON MATCH SET r.weight = r.weight + row.weight\n",
    "    \"\"\"\n",
    "    tx.run(query, rows=batch)"
   ]
  },
  {
   "cell_type": "code",
   "execution_count": null,
   "metadata": {},
   "outputs": [
    {
     "name": "stderr",
     "output_type": "stream",
     "text": [
      "/tmp/ipykernel_1776215/925813356.py:3: DeprecationWarning: write_transaction has been renamed to execute_write\n",
      "  session.write_transaction(_write_relationships, batch)\n"
     ]
    }
   ],
   "source": [
    "# Specify the file paths\n",
    "entities_file = \"cleaned_entities.csv\"\n",
    "cooccurrences_file = \"cleaned_cooccurrences.csv\"\n",
    "\n",
    "# Create the graph\n",
    "create_graph_parallel(entities_file, cooccurrences_file)\n",
    "\n",
    "# Close the driver after operations\n",
    "driver.close()"
   ]
  },
  {
   "cell_type": "code",
   "execution_count": null,
   "metadata": {},
   "outputs": [],
   "source": []
  }
 ],
 "metadata": {
  "kernelspec": {
   "display_name": ".venv",
   "language": "python",
   "name": "python3"
  },
  "language_info": {
   "codemirror_mode": {
    "name": "ipython",
    "version": 3
   },
   "file_extension": ".py",
   "mimetype": "text/x-python",
   "name": "python",
   "nbconvert_exporter": "python",
   "pygments_lexer": "ipython3",
   "version": "3.10.15"
  }
 },
 "nbformat": 4,
 "nbformat_minor": 2
}
