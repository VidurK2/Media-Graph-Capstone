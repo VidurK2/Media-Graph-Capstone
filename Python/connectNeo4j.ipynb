{
 "cells": [
  {
   "cell_type": "code",
   "execution_count": 1,
   "metadata": {},
   "outputs": [],
   "source": [
    "import csv\n",
    "import ast\n",
    "from collections import defaultdict\n",
    "from neo4j import GraphDatabase"
   ]
  },
  {
   "cell_type": "code",
   "execution_count": 2,
   "metadata": {},
   "outputs": [],
   "source": [
    "username = \"neo4j\"                                                # Replace with your username\n",
    "password = \"psWY56eXOUhccUjztpdUmnK8kd7E8FA1j4TlUOvEl5c\"          # Replace with your password\n",
    "driver = GraphDatabase.driver(\"neo4j+s://104e8e94.databases.neo4j.io\", auth=(username, password))"
   ]
  },
  {
   "cell_type": "markdown",
   "metadata": {},
   "source": [
    "## Importing entities onto neo4j"
   ]
  },
  {
   "cell_type": "code",
   "execution_count": 3,
   "metadata": {},
   "outputs": [],
   "source": [
    "def create_graph(entities_file, cooccurrences_file):\n",
    "    # Create nodes and relationships in Neo4j\n",
    "    with driver.session() as session:\n",
    "        # print(\"Conenction Established!\")\n",
    "        # # Load entities\n",
    "        # with open(entities_file, 'r') as f:\n",
    "        #     csv_reader = csv.DictReader(f)\n",
    "        #     for row in csv_reader:\n",
    "        #         print(row)\n",
    "        #         # Create entity nodes\n",
    "        #         session.run(\"\"\"\n",
    "        #             MERGE (e:Entity {name: $name, type: $type})\n",
    "        #         \"\"\", name=row['entity'], type=row['type'])\n",
    "                \n",
    "        # Load co-occurrences\n",
    "        with open(cooccurrences_file, 'r') as f:\n",
    "            csv_reader = csv.DictReader(f)\n",
    "            for row in csv_reader:\n",
    "                # Create relationships between entities\n",
    "                session.run(\"\"\"\n",
    "                    MATCH (e1:Entity {name: $entity1}), (e2:Entity {name: $entity2})\n",
    "                    MERGE (e1)-[r:CO_OCCURS_WITH]->(e2)\n",
    "                    ON CREATE SET r.weight = $weight\n",
    "                    ON MATCH SET r.weight = r.weight + $weight\n",
    "                \"\"\", entity1=row['entity1'], entity2=row['entity2'], weight=int(row['weight']))"
   ]
  },
  {
   "cell_type": "code",
   "execution_count": null,
   "metadata": {},
   "outputs": [],
   "source": [
    "# Specify the file paths\n",
    "entities_file = \"entities.csv\"\n",
    "cooccurrences_file = \"cooccurrences.csv\"\n",
    "\n",
    "# Create the graph\n",
    "create_graph(entities_file, cooccurrences_file)\n",
    "\n",
    "# Close the driver after operations\n",
    "driver.close()"
   ]
  },
  {
   "cell_type": "code",
   "execution_count": null,
   "metadata": {},
   "outputs": [],
   "source": []
  }
 ],
 "metadata": {
  "kernelspec": {
   "display_name": ".venv",
   "language": "python",
   "name": "python3"
  },
  "language_info": {
   "codemirror_mode": {
    "name": "ipython",
    "version": 3
   },
   "file_extension": ".py",
   "mimetype": "text/x-python",
   "name": "python",
   "nbconvert_exporter": "python",
   "pygments_lexer": "ipython3",
   "version": "3.10.15"
  }
 },
 "nbformat": 4,
 "nbformat_minor": 2
}
