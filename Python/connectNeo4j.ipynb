{
 "cells": [
  {
   "cell_type": "code",
   "execution_count": 2,
   "metadata": {},
   "outputs": [],
   "source": [
    "import csv\n",
    "import ast\n",
    "from collections import defaultdict\n",
    "from neo4j import GraphDatabase\n",
    "from concurrent.futures import ThreadPoolExecutor"
   ]
  },
  {
   "cell_type": "code",
   "execution_count": 3,
   "metadata": {},
   "outputs": [],
   "source": [
    "username = \"neo4j\"                                                # Replace with your username\n",
    "password = \"psWY56eXOUhccUjztpdUmnK8kd7E8FA1j4TlUOvEl5c\"          # Replace with your password\n",
    "driver = GraphDatabase.driver(\"neo4j+s://104e8e94.databases.neo4j.io\", auth=(username, password))"
   ]
  },
  {
   "cell_type": "markdown",
   "metadata": {},
   "source": [
    "## Importing entities onto neo4j"
   ]
  },
  {
   "cell_type": "code",
   "execution_count": 4,
   "metadata": {},
   "outputs": [],
   "source": [
    "def create_graph(entities_file, cooccurrences_file):\n",
    "    # Create nodes and relationships in Neo4j\n",
    "    with driver.session() as session:\n",
    "        # print(\"Conenction Established!\")\n",
    "        # # Load entities\n",
    "        # with open(entities_file, 'r') as f:\n",
    "        #     csv_reader = csv.DictReader(f)\n",
    "        #     for row in csv_reader:\n",
    "        #         print(row)\n",
    "        #         # Create entity nodes\n",
    "        #         session.run(\"\"\"\n",
    "        #             MERGE (e:Entity {name: $name, type: $type})\n",
    "        #         \"\"\", name=row['entity'], type=row['type'])\n",
    "                \n",
    "        # Load co-occurrences\n",
    "        with open(cooccurrences_file, 'r') as f:\n",
    "            csv_reader = csv.DictReader(f)\n",
    "            for row in csv_reader:\n",
    "                # Create relationships between entities\n",
    "                session.run(\"\"\"\n",
    "                    MATCH (e1:Entity {name: $entity1}), (e2:Entity {name: $entity2})\n",
    "                    MERGE (e1)-[r:CO_OCCURS_WITH]->(e2)\n",
    "                    ON CREATE SET r.weight = $weight\n",
    "                    ON MATCH SET r.weight = r.weight + $weight\n",
    "                \"\"\", entity1=row['entity1'], entity2=row['entity2'], weight=int(row['weight']))"
   ]
  },
  {
   "cell_type": "code",
   "execution_count": 5,
   "metadata": {},
   "outputs": [],
   "source": [
    "def create_graph_parallel(entities_file, cooccurrences_file, batch_size=1000):\n",
    "    with driver.session() as session:\n",
    "        # print(\"Conenction Established!\")\n",
    "        # # Load entities\n",
    "        # with open(entities_file, 'r') as f:\n",
    "        #     csv_reader = csv.DictReader(f)\n",
    "        #     for row in csv_reader:\n",
    "        #         print(row)\n",
    "        #         # Create entity nodes\n",
    "        #         session.run(\"\"\"\n",
    "        #             MERGE (e:Entity {name: $name, type: $type})\n",
    "        #         \"\"\", name=row['entity'], type=row['type'])\n",
    "        \n",
    "        with open(cooccurrences_file, 'r') as f:\n",
    "            csv_reader = csv.DictReader(f)\n",
    "            batch = []\n",
    "            for row in csv_reader:\n",
    "                # Append each row to the batch\n",
    "                batch.append({\n",
    "                    'entity1': row['entity1'],\n",
    "                    'entity2': row['entity2'],\n",
    "                    'weight': int(row['weight'])\n",
    "                })\n",
    "\n",
    "                # Process batch when size reaches batch_size\n",
    "                if len(batch) == batch_size:\n",
    "                    _process_batch(session, batch)\n",
    "                    batch = []  # Reset batch\n",
    "\n",
    "            # Process remaining rows\n",
    "            if batch:\n",
    "                _process_batch(session, batch)"
   ]
  },
  {
   "cell_type": "code",
   "execution_count": 6,
   "metadata": {},
   "outputs": [],
   "source": [
    "def _process_batch(session, batch):\n",
    "    # Helper function to process a batch of rows\n",
    "    session.write_transaction(_write_relationships, batch)\n",
    "\n",
    "def _write_relationships(tx, batch):\n",
    "    # Use an UNWIND query to handle multiple rows in a single transaction\n",
    "    query = \"\"\"\n",
    "        UNWIND $rows AS row\n",
    "        MATCH (e1:Entity {name: row.entity1}), (e2:Entity {name: row.entity2})\n",
    "        MERGE (e1)-[r:CO_OCCURS_WITH]->(e2)\n",
    "        ON CREATE SET r.weight = row.weight\n",
    "        ON MATCH SET r.weight = r.weight + row.weight\n",
    "    \"\"\"\n",
    "    tx.run(query, rows=batch)"
   ]
  },
  {
   "cell_type": "code",
   "execution_count": 7,
   "metadata": {},
   "outputs": [
    {
     "name": "stderr",
     "output_type": "stream",
     "text": [
      "/tmp/ipykernel_1776215/925813356.py:3: DeprecationWarning: write_transaction has been renamed to execute_write\n",
      "  session.write_transaction(_write_relationships, batch)\n"
     ]
    }
   ],
   "source": [
    "# Specify the file paths\n",
    "entities_file = \"cleaned_entities.csv\"\n",
    "cooccurrences_file = \"cleaned_cooccurrences.csv\"\n",
    "\n",
    "# Create the graph\n",
    "create_graph_parallel(entities_file, cooccurrences_file)\n",
    "\n",
    "# Close the driver after operations\n",
    "driver.close()"
   ]
  },
  {
   "cell_type": "code",
   "execution_count": 4,
   "metadata": {},
   "outputs": [
    {
     "name": "stdout",
     "output_type": "stream",
     "text": [
      "Conenction Established!\n",
      "{'id': '0', 'entity': 'Kanadia village', 'type': 'GPE', 'louv_community_weighted': '13467'}\n"
     ]
    },
    {
     "name": "stderr",
     "output_type": "stream",
     "text": [
      "Unable to retrieve routing information\n"
     ]
    },
    {
     "ename": "ServiceUnavailable",
     "evalue": "Unable to retrieve routing information",
     "output_type": "error",
     "traceback": [
      "\u001b[0;31m---------------------------------------------------------------------------\u001b[0m",
      "\u001b[0;31mServiceUnavailable\u001b[0m                        Traceback (most recent call last)",
      "Cell \u001b[0;32mIn[4], line 89\u001b[0m\n\u001b[1;32m     86\u001b[0m cooccurrences_file \u001b[38;5;241m=\u001b[39m \u001b[38;5;124m\"\u001b[39m\u001b[38;5;124m/home/vidur/mediagraph/data/Data_2_Years/Relations.csv\u001b[39m\u001b[38;5;124m\"\u001b[39m\n\u001b[1;32m     88\u001b[0m \u001b[38;5;66;03m# Create the graph\u001b[39;00m\n\u001b[0;32m---> 89\u001b[0m \u001b[43mcreate_graph_parallel\u001b[49m\u001b[43m(\u001b[49m\u001b[43mentities_file\u001b[49m\u001b[43m,\u001b[49m\u001b[43m \u001b[49m\u001b[43mcooccurrences_file\u001b[49m\u001b[43m)\u001b[49m\n\u001b[1;32m     91\u001b[0m \u001b[38;5;66;03m# Close the driver after operations\u001b[39;00m\n\u001b[1;32m     92\u001b[0m driver\u001b[38;5;241m.\u001b[39mclose()\n",
      "Cell \u001b[0;32mIn[4], line 46\u001b[0m, in \u001b[0;36mcreate_graph_parallel\u001b[0;34m(entities_file, cooccurrences_file, batch_size)\u001b[0m\n\u001b[1;32m     44\u001b[0m         \u001b[38;5;28mprint\u001b[39m(row)\n\u001b[1;32m     45\u001b[0m         \u001b[38;5;66;03m# Create entity nodes\u001b[39;00m\n\u001b[0;32m---> 46\u001b[0m         \u001b[43msession\u001b[49m\u001b[38;5;241;43m.\u001b[39;49m\u001b[43mrun\u001b[49m\u001b[43m(\u001b[49m\u001b[38;5;124;43m\"\"\"\u001b[39;49m\n\u001b[1;32m     47\u001b[0m \u001b[38;5;124;43m            MERGE (e:Entity \u001b[39;49m\u001b[38;5;124;43m{\u001b[39;49m\u001b[38;5;124;43mname: $name, type: $type})\u001b[39;49m\n\u001b[1;32m     48\u001b[0m \u001b[38;5;124;43m        \u001b[39;49m\u001b[38;5;124;43m\"\"\"\u001b[39;49m\u001b[43m,\u001b[49m\u001b[43m \u001b[49m\u001b[43mname\u001b[49m\u001b[38;5;241;43m=\u001b[39;49m\u001b[43mrow\u001b[49m\u001b[43m[\u001b[49m\u001b[38;5;124;43m'\u001b[39;49m\u001b[38;5;124;43mentity\u001b[39;49m\u001b[38;5;124;43m'\u001b[39;49m\u001b[43m]\u001b[49m\u001b[43m,\u001b[49m\u001b[43m \u001b[49m\u001b[38;5;28;43mtype\u001b[39;49m\u001b[38;5;241;43m=\u001b[39;49m\u001b[43mrow\u001b[49m\u001b[43m[\u001b[49m\u001b[38;5;124;43m'\u001b[39;49m\u001b[38;5;124;43mtype\u001b[39;49m\u001b[38;5;124;43m'\u001b[39;49m\u001b[43m]\u001b[49m\u001b[43m)\u001b[49m\n\u001b[1;32m     50\u001b[0m \u001b[38;5;66;03m# Load co-occurrences with date\u001b[39;00m\n\u001b[1;32m     51\u001b[0m \u001b[38;5;28;01mwith\u001b[39;00m \u001b[38;5;28mopen\u001b[39m(cooccurrences_file, \u001b[38;5;124m'\u001b[39m\u001b[38;5;124mr\u001b[39m\u001b[38;5;124m'\u001b[39m) \u001b[38;5;28;01mas\u001b[39;00m f:\n",
      "File \u001b[0;32m~/mediagraph/.venv/lib/python3.10/site-packages/neo4j/_sync/work/session.py:306\u001b[0m, in \u001b[0;36mSession.run\u001b[0;34m(self, query, parameters, **kwargs)\u001b[0m\n\u001b[1;32m    303\u001b[0m     \u001b[38;5;28mself\u001b[39m\u001b[38;5;241m.\u001b[39m_auto_result\u001b[38;5;241m.\u001b[39m_buffer_all()\n\u001b[1;32m    305\u001b[0m \u001b[38;5;28;01mif\u001b[39;00m \u001b[38;5;129;01mnot\u001b[39;00m \u001b[38;5;28mself\u001b[39m\u001b[38;5;241m.\u001b[39m_connection:\n\u001b[0;32m--> 306\u001b[0m     \u001b[38;5;28;43mself\u001b[39;49m\u001b[38;5;241;43m.\u001b[39;49m\u001b[43m_connect\u001b[49m\u001b[43m(\u001b[49m\u001b[38;5;28;43mself\u001b[39;49m\u001b[38;5;241;43m.\u001b[39;49m\u001b[43m_config\u001b[49m\u001b[38;5;241;43m.\u001b[39;49m\u001b[43mdefault_access_mode\u001b[49m\u001b[43m)\u001b[49m\n\u001b[1;32m    307\u001b[0m     \u001b[38;5;28;01massert\u001b[39;00m \u001b[38;5;28mself\u001b[39m\u001b[38;5;241m.\u001b[39m_connection \u001b[38;5;129;01mis\u001b[39;00m \u001b[38;5;129;01mnot\u001b[39;00m \u001b[38;5;28;01mNone\u001b[39;00m\n\u001b[1;32m    308\u001b[0m cx \u001b[38;5;241m=\u001b[39m \u001b[38;5;28mself\u001b[39m\u001b[38;5;241m.\u001b[39m_connection\n",
      "File \u001b[0;32m~/mediagraph/.venv/lib/python3.10/site-packages/neo4j/_sync/work/session.py:130\u001b[0m, in \u001b[0;36mSession._connect\u001b[0;34m(self, access_mode, **acquire_kwargs)\u001b[0m\n\u001b[1;32m    128\u001b[0m     access_mode \u001b[38;5;241m=\u001b[39m \u001b[38;5;28mself\u001b[39m\u001b[38;5;241m.\u001b[39m_config\u001b[38;5;241m.\u001b[39mdefault_access_mode\n\u001b[1;32m    129\u001b[0m \u001b[38;5;28;01mtry\u001b[39;00m:\n\u001b[0;32m--> 130\u001b[0m     \u001b[38;5;28;43msuper\u001b[39;49m\u001b[43m(\u001b[49m\u001b[43m)\u001b[49m\u001b[38;5;241;43m.\u001b[39;49m\u001b[43m_connect\u001b[49m\u001b[43m(\u001b[49m\n\u001b[1;32m    131\u001b[0m \u001b[43m        \u001b[49m\u001b[43maccess_mode\u001b[49m\u001b[43m,\u001b[49m\u001b[43m \u001b[49m\u001b[43mauth\u001b[49m\u001b[38;5;241;43m=\u001b[39;49m\u001b[38;5;28;43mself\u001b[39;49m\u001b[38;5;241;43m.\u001b[39;49m\u001b[43m_config\u001b[49m\u001b[38;5;241;43m.\u001b[39;49m\u001b[43mauth\u001b[49m\u001b[43m,\u001b[49m\u001b[43m \u001b[49m\u001b[38;5;241;43m*\u001b[39;49m\u001b[38;5;241;43m*\u001b[39;49m\u001b[43macquire_kwargs\u001b[49m\n\u001b[1;32m    132\u001b[0m \u001b[43m    \u001b[49m\u001b[43m)\u001b[49m\n\u001b[1;32m    133\u001b[0m \u001b[38;5;28;01mexcept\u001b[39;00m asyncio\u001b[38;5;241m.\u001b[39mCancelledError:\n\u001b[1;32m    134\u001b[0m     \u001b[38;5;28mself\u001b[39m\u001b[38;5;241m.\u001b[39m_handle_cancellation(message\u001b[38;5;241m=\u001b[39m\u001b[38;5;124m\"\u001b[39m\u001b[38;5;124m_connect\u001b[39m\u001b[38;5;124m\"\u001b[39m)\n",
      "File \u001b[0;32m~/mediagraph/.venv/lib/python3.10/site-packages/neo4j/_sync/work/workspace.py:167\u001b[0m, in \u001b[0;36mWorkspace._connect\u001b[0;34m(self, access_mode, auth, **acquire_kwargs)\u001b[0m\n\u001b[1;32m    159\u001b[0m     \u001b[38;5;28;01melse\u001b[39;00m:\n\u001b[1;32m    160\u001b[0m         \u001b[38;5;66;03m# This is the first time we open a connection to a server in a\u001b[39;00m\n\u001b[1;32m    161\u001b[0m         \u001b[38;5;66;03m# cluster environment for this session without explicitly\u001b[39;00m\n\u001b[0;32m   (...)\u001b[0m\n\u001b[1;32m    164\u001b[0m         \u001b[38;5;66;03m# we shall use this database explicitly for all subsequent\u001b[39;00m\n\u001b[1;32m    165\u001b[0m         \u001b[38;5;66;03m# actions within this session.\u001b[39;00m\n\u001b[1;32m    166\u001b[0m         log\u001b[38;5;241m.\u001b[39mdebug(\u001b[38;5;124m\"\u001b[39m\u001b[38;5;124m[#0000]  _: <WORKSPACE> resolve home database\u001b[39m\u001b[38;5;124m\"\u001b[39m)\n\u001b[0;32m--> 167\u001b[0m         \u001b[38;5;28;43mself\u001b[39;49m\u001b[38;5;241;43m.\u001b[39;49m\u001b[43m_pool\u001b[49m\u001b[38;5;241;43m.\u001b[39;49m\u001b[43mupdate_routing_table\u001b[49m\u001b[43m(\u001b[49m\n\u001b[1;32m    168\u001b[0m \u001b[43m            \u001b[49m\u001b[43mdatabase\u001b[49m\u001b[38;5;241;43m=\u001b[39;49m\u001b[38;5;28;43mself\u001b[39;49m\u001b[38;5;241;43m.\u001b[39;49m\u001b[43m_config\u001b[49m\u001b[38;5;241;43m.\u001b[39;49m\u001b[43mdatabase\u001b[49m\u001b[43m,\u001b[49m\n\u001b[1;32m    169\u001b[0m \u001b[43m            \u001b[49m\u001b[43mimp_user\u001b[49m\u001b[38;5;241;43m=\u001b[39;49m\u001b[38;5;28;43mself\u001b[39;49m\u001b[38;5;241;43m.\u001b[39;49m\u001b[43m_config\u001b[49m\u001b[38;5;241;43m.\u001b[39;49m\u001b[43mimpersonated_user\u001b[49m\u001b[43m,\u001b[49m\n\u001b[1;32m    170\u001b[0m \u001b[43m            \u001b[49m\u001b[43mbookmarks\u001b[49m\u001b[38;5;241;43m=\u001b[39;49m\u001b[38;5;28;43mself\u001b[39;49m\u001b[38;5;241;43m.\u001b[39;49m\u001b[43m_get_bookmarks\u001b[49m\u001b[43m(\u001b[49m\u001b[43m)\u001b[49m\u001b[43m,\u001b[49m\n\u001b[1;32m    171\u001b[0m \u001b[43m            \u001b[49m\u001b[43mauth\u001b[49m\u001b[38;5;241;43m=\u001b[39;49m\u001b[43mauth\u001b[49m\u001b[43m,\u001b[49m\n\u001b[1;32m    172\u001b[0m \u001b[43m            \u001b[49m\u001b[43macquisition_timeout\u001b[49m\u001b[38;5;241;43m=\u001b[39;49m\u001b[43macquisition_timeout\u001b[49m\u001b[43m,\u001b[49m\n\u001b[1;32m    173\u001b[0m \u001b[43m            \u001b[49m\u001b[43mdatabase_callback\u001b[49m\u001b[38;5;241;43m=\u001b[39;49m\u001b[38;5;28;43mself\u001b[39;49m\u001b[38;5;241;43m.\u001b[39;49m\u001b[43m_set_cached_database\u001b[49m\u001b[43m,\u001b[49m\n\u001b[1;32m    174\u001b[0m \u001b[43m        \u001b[49m\u001b[43m)\u001b[49m\n\u001b[1;32m    175\u001b[0m acquire_kwargs_ \u001b[38;5;241m=\u001b[39m {\n\u001b[1;32m    176\u001b[0m     \u001b[38;5;124m\"\u001b[39m\u001b[38;5;124maccess_mode\u001b[39m\u001b[38;5;124m\"\u001b[39m: access_mode,\n\u001b[1;32m    177\u001b[0m     \u001b[38;5;124m\"\u001b[39m\u001b[38;5;124mtimeout\u001b[39m\u001b[38;5;124m\"\u001b[39m: acquisition_timeout,\n\u001b[0;32m   (...)\u001b[0m\n\u001b[1;32m    181\u001b[0m     \u001b[38;5;124m\"\u001b[39m\u001b[38;5;124mliveness_check_timeout\u001b[39m\u001b[38;5;124m\"\u001b[39m: \u001b[38;5;28;01mNone\u001b[39;00m,\n\u001b[1;32m    182\u001b[0m }\n\u001b[1;32m    183\u001b[0m acquire_kwargs_\u001b[38;5;241m.\u001b[39mupdate(acquire_kwargs)\n",
      "File \u001b[0;32m~/mediagraph/.venv/lib/python3.10/site-packages/neo4j/_sync/io/_pool.py:939\u001b[0m, in \u001b[0;36mNeo4jPool.update_routing_table\u001b[0;34m(self, database, imp_user, bookmarks, auth, acquisition_timeout, database_callback)\u001b[0m\n\u001b[1;32m    937\u001b[0m \u001b[38;5;66;03m# None of the routers have been successful, so just fail\u001b[39;00m\n\u001b[1;32m    938\u001b[0m log\u001b[38;5;241m.\u001b[39merror(\u001b[38;5;124m\"\u001b[39m\u001b[38;5;124mUnable to retrieve routing information\u001b[39m\u001b[38;5;124m\"\u001b[39m)\n\u001b[0;32m--> 939\u001b[0m \u001b[38;5;28;01mraise\u001b[39;00m ServiceUnavailable(\u001b[38;5;124m\"\u001b[39m\u001b[38;5;124mUnable to retrieve routing information\u001b[39m\u001b[38;5;124m\"\u001b[39m)\n",
      "\u001b[0;31mServiceUnavailable\u001b[0m: Unable to retrieve routing information"
     ]
    }
   ],
   "source": [
    "from neo4j import GraphDatabase\n",
    "import csv\n",
    "import ast\n",
    "from collections import defaultdict\n",
    "from concurrent.futures import ThreadPoolExecutor\n",
    "import pandas as pd\n",
    "uri = \"neo4j+s://31979af6.databases.neo4j.io\"  # Change this to your Neo4j instance URI\n",
    "username = \"neo4j\"             # Replace with your username\n",
    "password = \"6PqtJmNUmLaM4OF8EwaYz8H9LXlyAXAN3x4JAgg5TBQ\"          # Replace with your password\n",
    "driver = GraphDatabase.driver(uri, auth=(username, password))\n",
    "## Importing entities onto neo4j\n",
    "def create_graph(entities_file, cooccurrences_file):\n",
    "    # Create nodes and relationships in Neo4j\n",
    "    with driver.session() as session:\n",
    "        print(\"Conenction Established!\")\n",
    "        # Load entities\n",
    "        with open(entities_file, 'r') as f:\n",
    "            csv_reader = csv.DictReader(f)\n",
    "            for row in csv_reader:\n",
    "                print(row)\n",
    "                # Create entity nodes\n",
    "                session.run(\"\"\"\n",
    "                    MERGE (e:Entity {name: $name, type: $type})\n",
    "                \"\"\", name=row['entity'], type=row['type'])\n",
    "                \n",
    "        # Load co-occurrences\n",
    "        with open(cooccurrences_file, 'r') as f:\n",
    "            csv_reader = csv.DictReader(f)\n",
    "            for row in csv_reader:\n",
    "                # Create relationships between entities\n",
    "                session.run(\"\"\"\n",
    "                    MATCH (e1:Entity {name: $entity1}), (e2:Entity {name: $entity2})\n",
    "                    MERGE (e1)-[r:CO_OCCURS_WITH]->(e2)\n",
    "                    ON CREATE SET r.weight = $weight\n",
    "                    ON MATCH SET r.weight = r.weight + $weight\n",
    "                \"\"\", entity1=row['entity1'], entity2=row['entity2'], weight=int(row['weight']))\n",
    "def create_graph_parallel(entities_file, cooccurrences_file, batch_size=1000):\n",
    "    with driver.session() as session:\n",
    "        print(\"Conenction Established!\")\n",
    "        # Load entities\n",
    "        with open(entities_file, 'r') as f:\n",
    "            csv_reader = csv.DictReader(f)\n",
    "            for row in csv_reader:\n",
    "                print(row)\n",
    "                # Create entity nodes\n",
    "                session.run(\"\"\"\n",
    "                    MERGE (e:Entity {name: $name, type: $type})\n",
    "                \"\"\", name=row['entity'], type=row['type'])\n",
    "                \n",
    "        # Load co-occurrences with date\n",
    "        with open(cooccurrences_file, 'r') as f:\n",
    "            csv_reader = csv.DictReader(f)\n",
    "            for row in csv_reader:\n",
    "                # Create relationships between entities with date information\n",
    "                session.run(\"\"\"\n",
    "                    MATCH (e1:Entity {name: $entity1}), (e2:Entity {name: $entity2})\n",
    "                    MERGE (e1)-[r:CO_OCCURS_WITH]->(e2)\n",
    "                    ON CREATE SET r.weight = $weight, r.dates = $dates\n",
    "                    ON MATCH SET r.weight = r.weight + $weight, r.dates = $dates\n",
    "                \"\"\", entity1=row['entity1'], entity2=row['entity2'], weight=int(row['weight']), dates=row['dates'])\n",
    "\n",
    "                # Process batch when size reaches batch_size\n",
    "                if len(batch) == batch_size:\n",
    "                    _process_batch(session, batch)\n",
    "                    batch = []  # Reset batch\n",
    "\n",
    "            # Process remaining rows\n",
    "            if batch:\n",
    "                _process_batch(session, batch)\n",
    "def _process_batch(session, batch):\n",
    "    # Helper function to process a batch of rows\n",
    "    session.write_transaction(_write_relationships, batch)\n",
    "\n",
    "def _write_relationships(tx, batch):\n",
    "    # Use an UNWIND query to handle multiple rows in a single transaction\n",
    "    query = \"\"\"\n",
    "        UNWIND $rows AS row\n",
    "        MATCH (e1:Entity {name: row.entity1}), (e2:Entity {name: row.entity2})\n",
    "        MERGE (e1)-[r:CO_OCCURS_WITH]->(e2)\n",
    "        ON CREATE SET r.weight = row.weight\n",
    "        ON MATCH SET r.weight = r.weight + row.weight\n",
    "    \"\"\"\n",
    "    tx.run(query, rows=batch)\n",
    "# Specify the file paths\n",
    "entities_file = \"/home/vidur/mediagraph/data/Data_2_Years/Entities.csv\"\n",
    "cooccurrences_file = \"/home/vidur/mediagraph/data/Data_2_Years/Relations.csv\"\n",
    "\n",
    "# Create the graph\n",
    "create_graph_parallel(entities_file, cooccurrences_file)\n",
    "\n",
    "# Close the driver after operations\n",
    "driver.close()\n",
    "\n"
   ]
  },
  {
   "cell_type": "code",
   "execution_count": null,
   "metadata": {},
   "outputs": [],
   "source": []
  }
 ],
 "metadata": {
  "kernelspec": {
   "display_name": ".venv",
   "language": "python",
   "name": "python3"
  },
  "language_info": {
   "codemirror_mode": {
    "name": "ipython",
    "version": 3
   },
   "file_extension": ".py",
   "mimetype": "text/x-python",
   "name": "python",
   "nbconvert_exporter": "python",
   "pygments_lexer": "ipython3",
   "version": "3.10.16"
  }
 },
 "nbformat": 4,
 "nbformat_minor": 2
}
