{
 "cells": [
  {
   "cell_type": "code",
   "execution_count": 4,
   "metadata": {},
   "outputs": [],
   "source": [
    "import pandas as pd\n",
    "from metaphone import doublemetaphone\n",
    "from difflib import SequenceMatcher"
   ]
  },
  {
   "cell_type": "code",
   "execution_count": 5,
   "metadata": {},
   "outputs": [],
   "source": [
    "def check_match(name1, name2):\n",
    "    # Remove periods, convert to lowercase, and split names\n",
    "    name1_words = name1.replace('.', '').lower().split()\n",
    "    name2_words = name2.replace('.', '').lower().split()\n",
    "    \n",
    "    # Check if either name is a single word (ignore such cases)\n",
    "    if len(name1_words) < 2 or len(name2_words) < 2:\n",
    "        print('One or both names do not have enough information (less than two words).')\n",
    "        return False\n",
    "    \n",
    "    # Extract last names\n",
    "    last_name1 = name1_words[-1]\n",
    "    last_name2 = name2_words[-1]\n",
    "    \n",
    "    # Check if last names match or if one is the initial of the other\n",
    "    last_names_match = (last_name1 == last_name2 or \n",
    "                        (len(last_name1) == 1 and last_name1 == last_name2[0]) or \n",
    "                        (len(last_name2) == 1 and last_name2 == last_name1[0]))\n",
    "    \n",
    "    # Extract first names or initials\n",
    "    first_name1 = name1_words[0]\n",
    "    first_name2 = name2_words[0]\n",
    "    \n",
    "    # Check if first names match or initials correspond\n",
    "    first_names_match = (first_name1[0] == first_name2[0])\n",
    "    \n",
    "    # Use a lower threshold for Levenshtein ratio when comparing full names\n",
    "    if len(first_name1) > 1 and len(first_name2) > 1:\n",
    "        lev_ratio = levenshtein_ratio(first_name1, first_name2)\n",
    "    else:\n",
    "        lev_ratio = 1  # Assume perfect match if one is just an initial\n",
    "    \n",
    "    # Check Metaphone phonetic similarity for both first and last names combined\n",
    "    meta_match = metaphone_match(' '.join(name1_words), ' '.join(name2_words))\n",
    "    \n",
    "    # Determine final match based on OR condition\n",
    "    if (last_names_match and (first_names_match or lev_ratio >= 0.8)) or meta_match:\n",
    "        print('Names match or sound similar.')\n",
    "        return True\n",
    "    else:\n",
    "        print('Names do not match and do not sound similar.')\n",
    "        return False"
   ]
  },
  {
   "cell_type": "code",
   "execution_count": 6,
   "metadata": {},
   "outputs": [],
   "source": [
    "def levenshtein_ratio(s1, s2):\n",
    "    return SequenceMatcher(None, s1, s2).ratio()"
   ]
  },
  {
   "cell_type": "code",
   "execution_count": 7,
   "metadata": {},
   "outputs": [],
   "source": [
    "def metaphone_match(name1, name2):\n",
    "    meta1 = doublemetaphone(name1)\n",
    "    meta2 = doublemetaphone(name2)\n",
    "    return any(m1 == m2 for m1 in meta1 for m2 in meta2 if m1 and m2)"
   ]
  },
  {
   "cell_type": "code",
   "execution_count": 8,
   "metadata": {},
   "outputs": [
    {
     "name": "stdout",
     "output_type": "stream",
     "text": [
      "Names match or sound similar.\n",
      "Match: True\n"
     ]
    }
   ],
   "source": [
    "name1 = \"Vidur Singh\"\n",
    "name2 = \"V S\"\n",
    "print(\"Match:\", check_match(name1, name2))"
   ]
  },
  {
   "cell_type": "code",
   "execution_count": 11,
   "metadata": {},
   "outputs": [
    {
     "name": "stdout",
     "output_type": "stream",
     "text": [
      "Names match or sound similar.\n",
      "Match: True\n"
     ]
    }
   ],
   "source": [
    "name1 = \"Vidur Singh\"\n",
    "name2 = \"V. Singh\"\n",
    "print(\"Match:\", check_match(name1, name2))"
   ]
  },
  {
   "cell_type": "code",
   "execution_count": 10,
   "metadata": {},
   "outputs": [
    {
     "name": "stdout",
     "output_type": "stream",
     "text": [
      "Names do not match and do not sound similar.\n",
      "Match: False\n"
     ]
    }
   ],
   "source": [
    "name1 = \"Vidur Singh\"\n",
    "name2 = \"Mr. Singh\"\n",
    "print(\"Match:\", check_match(name1, name2))"
   ]
  },
  {
   "cell_type": "markdown",
   "metadata": {},
   "source": [
    "---\n",
    "## Version 2\n",
    "---"
   ]
  },
  {
   "cell_type": "code",
   "execution_count": 10,
   "metadata": {},
   "outputs": [],
   "source": [
    "import pandas as pd\n",
    "import gensim\n",
    "from gensim.models import Word2Vec\n",
    "from sklearn.cluster import DBSCAN\n",
    "from sklearn.metrics.pairwise import cosine_similarity\n",
    "import numpy as np\n",
    "import re\n"
   ]
  },
  {
   "cell_type": "code",
   "execution_count": 11,
   "metadata": {},
   "outputs": [],
   "source": [
    "# Load your dataset containing text data\n",
    "df = pd.read_csv('/home/vidur/mediagraph/data/TOI_FarmersProtests.csv')\n",
    "\n",
    "# Fill missing values\n",
    "df['Text'] = df['Text'].fillna('')\n",
    "\n",
    "# Preprocess text: tokenize, remove punctuation, etc.\n",
    "def preprocess_text(text):\n",
    "    # Remove non-alphabetic characters and lowercase the text\n",
    "    text = re.sub(r'[^a-zA-Z\\s]', '', text)\n",
    "    text = text.lower()\n",
    "    # Tokenize the text\n",
    "    tokens = text.split()\n",
    "    return tokens\n",
    "\n",
    "# Apply preprocessing to the text column\n",
    "df['Tokens'] = df['Text'].apply(preprocess_text)\n",
    "\n",
    "# Build the corpus (list of token lists)\n",
    "corpus = df['Tokens'].tolist()\n"
   ]
  },
  {
   "cell_type": "code",
   "execution_count": 12,
   "metadata": {},
   "outputs": [],
   "source": [
    "# Set parameters for Word2Vec\n",
    "embedding_size = 100  # Size of the embedding vectors\n",
    "window_size = 5       # Context window size\n",
    "min_count = 1         # Minimum word frequency\n",
    "workers = 4           # Number of worker threads\n",
    "\n",
    "# Initialize and train the model\n",
    "model = Word2Vec(sentences=corpus,\n",
    "                 vector_size=embedding_size,\n",
    "                 window=window_size,\n",
    "                 min_count=min_count,\n",
    "                 workers=workers,\n",
    "                 sg=0)  # Use CBOW architecture\n"
   ]
  },
  {
   "cell_type": "code",
   "execution_count": 13,
   "metadata": {},
   "outputs": [],
   "source": [
    "# Assuming you have a list of names and aliases\n",
    "# For demonstration, let's create some sample data\n",
    "names = ['rajinder singh', 'r singh', 'rajindar singh', 'rjinder sngh', 'rajinder', 'rajinder kumar singh']\n",
    "\n",
    "# Preprocess names\n",
    "def preprocess_name(name):\n",
    "    name = re.sub(r'[^a-zA-Z\\s]', '', name)\n",
    "    name = name.lower().strip()\n",
    "    return name\n",
    "\n",
    "names = [preprocess_name(name) for name in names]\n"
   ]
  },
  {
   "cell_type": "code",
   "execution_count": 14,
   "metadata": {},
   "outputs": [],
   "source": [
    "# Function to get the embedding for a name\n",
    "def get_name_embedding(name, model):\n",
    "    words = name.split()\n",
    "    word_vectors = []\n",
    "    for word in words:\n",
    "        if word in model.wv:\n",
    "            word_vectors.append(model.wv[word])\n",
    "        else:\n",
    "            # Handle out-of-vocabulary words (e.g., use zero vector)\n",
    "            word_vectors.append(np.zeros(model.vector_size))\n",
    "    # Compute the average embedding\n",
    "    if word_vectors:\n",
    "        name_embedding = np.mean(word_vectors, axis=0)\n",
    "    else:\n",
    "        # If no words are in the vocabulary, return a zero vector\n",
    "        name_embedding = np.zeros(model.vector_size)\n",
    "    return name_embedding\n",
    "\n",
    "# Generate embeddings for all names\n",
    "name_embeddings = []\n",
    "for name in names:\n",
    "    embedding = get_name_embedding(name, model)\n",
    "    name_embeddings.append(embedding)\n"
   ]
  },
  {
   "cell_type": "code",
   "execution_count": 15,
   "metadata": {},
   "outputs": [
    {
     "data": {
      "text/html": [
       "<div>\n",
       "<style scoped>\n",
       "    .dataframe tbody tr th:only-of-type {\n",
       "        vertical-align: middle;\n",
       "    }\n",
       "\n",
       "    .dataframe tbody tr th {\n",
       "        vertical-align: top;\n",
       "    }\n",
       "\n",
       "    .dataframe thead th {\n",
       "        text-align: right;\n",
       "    }\n",
       "</style>\n",
       "<table border=\"1\" class=\"dataframe\">\n",
       "  <thead>\n",
       "    <tr style=\"text-align: right;\">\n",
       "      <th></th>\n",
       "      <th>rajinder singh</th>\n",
       "      <th>r singh</th>\n",
       "      <th>rajindar singh</th>\n",
       "      <th>rjinder sngh</th>\n",
       "      <th>rajinder</th>\n",
       "      <th>rajinder kumar singh</th>\n",
       "    </tr>\n",
       "  </thead>\n",
       "  <tbody>\n",
       "    <tr>\n",
       "      <th>rajinder singh</th>\n",
       "      <td>1.000000</td>\n",
       "      <td>0.980035</td>\n",
       "      <td>0.997709</td>\n",
       "      <td>0.0</td>\n",
       "      <td>0.610952</td>\n",
       "      <td>0.969110</td>\n",
       "    </tr>\n",
       "    <tr>\n",
       "      <th>r singh</th>\n",
       "      <td>0.980035</td>\n",
       "      <td>1.000000</td>\n",
       "      <td>0.972640</td>\n",
       "      <td>0.0</td>\n",
       "      <td>0.659021</td>\n",
       "      <td>0.989328</td>\n",
       "    </tr>\n",
       "    <tr>\n",
       "      <th>rajindar singh</th>\n",
       "      <td>0.997709</td>\n",
       "      <td>0.972640</td>\n",
       "      <td>1.000000</td>\n",
       "      <td>0.0</td>\n",
       "      <td>0.555995</td>\n",
       "      <td>0.962417</td>\n",
       "    </tr>\n",
       "    <tr>\n",
       "      <th>rjinder sngh</th>\n",
       "      <td>0.000000</td>\n",
       "      <td>0.000000</td>\n",
       "      <td>0.000000</td>\n",
       "      <td>0.0</td>\n",
       "      <td>0.000000</td>\n",
       "      <td>0.000000</td>\n",
       "    </tr>\n",
       "    <tr>\n",
       "      <th>rajinder</th>\n",
       "      <td>0.610952</td>\n",
       "      <td>0.659021</td>\n",
       "      <td>0.555995</td>\n",
       "      <td>0.0</td>\n",
       "      <td>1.000000</td>\n",
       "      <td>0.644426</td>\n",
       "    </tr>\n",
       "    <tr>\n",
       "      <th>rajinder kumar singh</th>\n",
       "      <td>0.969110</td>\n",
       "      <td>0.989328</td>\n",
       "      <td>0.962417</td>\n",
       "      <td>0.0</td>\n",
       "      <td>0.644426</td>\n",
       "      <td>1.000000</td>\n",
       "    </tr>\n",
       "  </tbody>\n",
       "</table>\n",
       "</div>"
      ],
      "text/plain": [
       "                      rajinder singh   r singh  rajindar singh  rjinder sngh  \\\n",
       "rajinder singh              1.000000  0.980035        0.997709           0.0   \n",
       "r singh                     0.980035  1.000000        0.972640           0.0   \n",
       "rajindar singh              0.997709  0.972640        1.000000           0.0   \n",
       "rjinder sngh                0.000000  0.000000        0.000000           0.0   \n",
       "rajinder                    0.610952  0.659021        0.555995           0.0   \n",
       "rajinder kumar singh        0.969110  0.989328        0.962417           0.0   \n",
       "\n",
       "                      rajinder  rajinder kumar singh  \n",
       "rajinder singh        0.610952              0.969110  \n",
       "r singh               0.659021              0.989328  \n",
       "rajindar singh        0.555995              0.962417  \n",
       "rjinder sngh          0.000000              0.000000  \n",
       "rajinder              1.000000              0.644426  \n",
       "rajinder kumar singh  0.644426              1.000000  "
      ]
     },
     "execution_count": 15,
     "metadata": {},
     "output_type": "execute_result"
    }
   ],
   "source": [
    "# Compute cosine similarity matrix\n",
    "similarity_matrix = cosine_similarity(name_embeddings)\n",
    "\n",
    "# Convert to DataFrame for better visualization\n",
    "similarity_df = pd.DataFrame(similarity_matrix, index=names, columns=names)\n",
    "similarity_df\n"
   ]
  },
  {
   "cell_type": "code",
   "execution_count": 16,
   "metadata": {},
   "outputs": [
    {
     "data": {
      "text/html": [
       "<div>\n",
       "<style scoped>\n",
       "    .dataframe tbody tr th:only-of-type {\n",
       "        vertical-align: middle;\n",
       "    }\n",
       "\n",
       "    .dataframe tbody tr th {\n",
       "        vertical-align: top;\n",
       "    }\n",
       "\n",
       "    .dataframe thead th {\n",
       "        text-align: right;\n",
       "    }\n",
       "</style>\n",
       "<table border=\"1\" class=\"dataframe\">\n",
       "  <thead>\n",
       "    <tr style=\"text-align: right;\">\n",
       "      <th></th>\n",
       "      <th>Name</th>\n",
       "      <th>Cluster</th>\n",
       "    </tr>\n",
       "  </thead>\n",
       "  <tbody>\n",
       "    <tr>\n",
       "      <th>0</th>\n",
       "      <td>rajinder singh</td>\n",
       "      <td>0</td>\n",
       "    </tr>\n",
       "    <tr>\n",
       "      <th>1</th>\n",
       "      <td>r singh</td>\n",
       "      <td>0</td>\n",
       "    </tr>\n",
       "    <tr>\n",
       "      <th>2</th>\n",
       "      <td>rajindar singh</td>\n",
       "      <td>0</td>\n",
       "    </tr>\n",
       "    <tr>\n",
       "      <th>4</th>\n",
       "      <td>rajinder</td>\n",
       "      <td>0</td>\n",
       "    </tr>\n",
       "    <tr>\n",
       "      <th>5</th>\n",
       "      <td>rajinder kumar singh</td>\n",
       "      <td>0</td>\n",
       "    </tr>\n",
       "    <tr>\n",
       "      <th>3</th>\n",
       "      <td>rjinder sngh</td>\n",
       "      <td>1</td>\n",
       "    </tr>\n",
       "  </tbody>\n",
       "</table>\n",
       "</div>"
      ],
      "text/plain": [
       "                   Name  Cluster\n",
       "0        rajinder singh        0\n",
       "1               r singh        0\n",
       "2        rajindar singh        0\n",
       "4              rajinder        0\n",
       "5  rajinder kumar singh        0\n",
       "3          rjinder sngh        1"
      ]
     },
     "execution_count": 16,
     "metadata": {},
     "output_type": "execute_result"
    }
   ],
   "source": [
    "# Use DBSCAN for clustering\n",
    "# Adjust 'eps' and 'min_samples' based on your data\n",
    "clustering_model = DBSCAN(eps=0.5, min_samples=1, metric='cosine')\n",
    "cluster_labels = clustering_model.fit_predict(name_embeddings)\n",
    "\n",
    "# Create a DataFrame to display names and their cluster labels\n",
    "clusters_df = pd.DataFrame({'Name': names, 'Cluster': cluster_labels})\n",
    "clusters_df.sort_values('Cluster')\n"
   ]
  },
  {
   "cell_type": "code",
   "execution_count": 17,
   "metadata": {},
   "outputs": [
    {
     "name": "stdout",
     "output_type": "stream",
     "text": [
      "Cluster 0: ['rajinder singh', 'r singh', 'rajindar singh', 'rajinder', 'rajinder kumar singh']\n",
      "Cluster 1: ['rjinder sngh']\n"
     ]
    }
   ],
   "source": [
    "# Group names by clusters\n",
    "grouped = clusters_df.groupby('Cluster')['Name'].apply(list)\n",
    "\n",
    "# Display the clusters and their associated names\n",
    "for cluster_id, name_list in grouped.items():\n",
    "    print(f\"Cluster {cluster_id}: {name_list}\")\n"
   ]
  },
  {
   "cell_type": "code",
   "execution_count": 19,
   "metadata": {},
   "outputs": [
    {
     "name": "stdout",
     "output_type": "stream",
     "text": [
      "0 ['rajinder singh', 'r singh', 'rajindar singh', 'rajinder', 'rajinder kumar singh']\n",
      "1 ['rjinder sngh']\n"
     ]
    }
   ],
   "source": [
    "# Assuming you have a function to update your Elasticsearch index\n",
    "def update_elasticsearch(name_list, cluster_id):\n",
    "    # Implement your logic to update Elasticsearch with resolved entities\n",
    "    # For example, merge names in the same cluster under a single entity\n",
    "    pass\n",
    "\n",
    "# Update Elasticsearch with clusters\n",
    "for cluster_id, name_list in grouped.items():\n",
    "    print(cluster_id, name_list)\n",
    "    update_elasticsearch(name_list, cluster_id)\n"
   ]
  },
  {
   "cell_type": "code",
   "execution_count": null,
   "metadata": {},
   "outputs": [],
   "source": []
  }
 ],
 "metadata": {
  "kernelspec": {
   "display_name": ".venv",
   "language": "python",
   "name": "python3"
  },
  "language_info": {
   "codemirror_mode": {
    "name": "ipython",
    "version": 3
   },
   "file_extension": ".py",
   "mimetype": "text/x-python",
   "name": "python",
   "nbconvert_exporter": "python",
   "pygments_lexer": "ipython3",
   "version": "3.10.15"
  }
 },
 "nbformat": 4,
 "nbformat_minor": 2
}
