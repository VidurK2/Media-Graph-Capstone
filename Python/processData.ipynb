{
 "cells": [
  {
   "cell_type": "code",
   "execution_count": 1,
   "metadata": {},
   "outputs": [
    {
     "name": "stdout",
     "output_type": "stream",
     "text": [
      "[('BATHINDA', 'O'), (':', 'O'), ('Punjab', 'O'), ('jails', 'O'), ('minister', 'O'), ('Sukhjinder', 'PERSON'), ('Singh', 'PERSON'), ('Randhawa', 'PERSON'), ('has', 'O'), ('ordered', 'O'), ('an', 'O'), ('investigation', 'O'), ('into', 'O'), ('the', 'O'), ('December', 'DATE'), ('30', 'DATE'), ('assault', 'O'), ('on', 'O'), ('a', 'O'), ('farmer', 'O'), ('union', 'O'), ('’', 'O'), ('s', 'O'), ('vice-president', 'O'), ('in', 'O'), ('Faridkot', 'LOCATION'), ('jail', 'O'), ('.', 'O'), ('Randhawa', 'O'), ('said', 'O'), ('he', 'O'), ('had', 'O'), ('asked', 'O'), ('ADGP', 'O'), ('(', 'O'), ('jails', 'O'), (')', 'O'), ('to', 'O'), ('find', 'O'), ('how', 'O'), ('a', 'O'), ('gangster', 'O'), ('and', 'O'), ('his', 'O'), ('henchmen', 'O'), ('beat', 'O'), ('up', 'O'), ('the', 'O'), ('inmate', 'O'), (',', 'O'), ('Kirti', 'ORGANIZATION'), ('Kisan', 'ORGANIZATION'), ('Union', 'ORGANIZATION'), ('vice', 'O'), ('president', 'O'), ('Rajinder', 'PERSON'), ('Singh', 'PERSON'), ('.', 'O'), ('An', 'O'), ('officer', 'O'), ('of', 'O'), ('the', 'O'), ('rank', 'O'), ('of', 'O'), ('deputy', 'O'), ('inspector', 'O'), ('general', 'O'), ('of', 'O'), ('police', 'O'), ('(', 'O'), ('DIG', 'O'), (')', 'O'), ('has', 'O'), ('been', 'O'), ('asked', 'O'), ('to', 'O'), ('inquire', 'O'), ('into', 'O'), ('the', 'O'), ('matter', 'O'), ('and', 'O'), ('fix', 'O'), ('responsibility', 'O'), ('of', 'O'), ('the', 'O'), ('jail', 'O'), ('staff', 'O'), ('.', 'O'), ('Speaking', 'O'), ('to', 'O'), ('TOI', 'ORGANIZATION'), (',', 'O'), ('Randhawa', 'PERSON'), ('said', 'O'), (',', 'O'), ('“', 'O'), ('I', 'O'), ('had', 'O'), ('taken', 'O'), ('up', 'O'), ('the', 'O'), ('matter', 'O'), ('with', 'O'), ('ADGP', 'O'), ('(', 'O'), ('jails', 'O'), (')', 'O'), ('and', 'O'), ('asked', 'O'), ('him', 'O'), ('to', 'O'), ('get', 'O'), ('the', 'O'), ('matter', 'O'), ('probed', 'O'), ('.', 'O'), ('The', 'O'), ('ADGP', 'O'), ('has', 'O'), ('deputed', 'O'), ('a', 'O'), ('DIG-level', 'O'), ('officer', 'O'), ('to', 'O'), ('investigate', 'O'), ('by', 'O'), ('concentrating', 'O'), ('on', 'O'), ('talking', 'O'), ('to', 'O'), ('the', 'O'), ('inmate', 'O'), ('who', 'O'), ('was', 'O'), ('beaten', 'O'), ('up', 'O'), ('and', 'O'), ('those', 'O'), ('who', 'O'), ('were', 'O'), ('around', 'O'), ('.', 'O'), ('We', 'O'), ('will', 'O'), ('reach', 'O'), ('to', 'O'), ('the', 'O'), ('bottom', 'O'), ('of', 'O'), ('the', 'O'), ('matter', 'O'), ('and', 'O'), ('anyone', 'O'), ('found', 'O'), ('guilty', 'O'), ('of', 'O'), ('dereliction', 'O'), ('of', 'O'), ('duty', 'O'), ('will', 'O'), ('be', 'O'), ('taken', 'O'), ('to', 'O'), ('task.', 'O'), ('”', 'O'), ('Rajinder', 'O'), ('was', 'O'), ('attacked', 'O'), ('in', 'O'), ('the', 'O'), ('jail', 'O'), ('on', 'O'), ('December', 'DATE'), ('30', 'DATE'), ('evening', 'TIME'), ('.', 'O'), ('With', 'O'), ('blunt', 'O'), ('injuries', 'O'), ('on', 'O'), ('the', 'O'), ('body', 'O'), (',', 'O'), ('he', 'O'), ('was', 'O'), ('admitted', 'O'), ('to', 'O'), ('Guru', 'ORGANIZATION'), ('Gobind', 'ORGANIZATION'), ('Singh', 'ORGANIZATION'), ('Medical', 'ORGANIZATION'), ('College', 'ORGANIZATION'), (',', 'O'), ('Faridkot', 'O'), ('.', 'O'), ('Nishan', 'PERSON'), ('Singh', 'PERSON'), (',', 'O'), ('who', 'O'), ('is', 'O'), ('serving', 'O'), ('a', 'O'), ('life', 'O'), ('sentence', 'O'), ('for', 'O'), ('abducting', 'O'), ('and', 'O'), ('raping', 'O'), ('a', 'O'), ('minor', 'O'), ('girl', 'O'), (',', 'O'), ('is', 'O'), ('behind', 'O'), ('the', 'O'), ('attack', 'O'), ('.', 'O'), ('A', 'O'), ('case', 'O'), ('has', 'O'), ('been', 'O'), ('registered', 'O'), ('against', 'O'), ('Nishan', 'PERSON'), ('and', 'O'), ('17', 'O'), ('others', 'O'), ('.', 'O'), ('Farmer', 'O'), ('organisation', 'O'), ('activists', 'O'), ('KKU', 'O'), ('presid', 'O')]\n"
     ]
    }
   ],
   "source": [
    "import nltk\n",
    "from nltk.tag import StanfordNERTagger\n",
    "from nltk.tokenize import word_tokenize\n",
    "\n",
    "# Set the path to the Stanford NER Java executable and the classifier model\n",
    "stanford_classifier = '/Users/vidur/Downloads/stanford-ner-2020-11-17/classifiers/english.muc.7class.distsim.crf.ser.gz'\n",
    "stanford_ner_path = '/Users/vidur/Downloads/stanford-ner-2020-11-17/stanford-ner-4.2.0.jar'\n",
    "\n",
    "# Create a StanfordNERTagger object\n",
    "st = StanfordNERTagger(stanford_classifier, stanford_ner_path, encoding='utf-8')\n",
    "\n",
    "# Example text\n",
    "text = 'BATHINDA: Punjab jails minister Sukhjinder Singh Randhawa has ordered an investigation into the December 30 assault on a farmer union’s vice-president in Faridkot jail. Randhawa said he had asked ADGP (jails) to find how a gangster and his henchmen beat up the inmate, Kirti Kisan Union vice president Rajinder Singh. An officer of the rank of deputy inspector general of police (DIG) has been asked to inquire into the matter and fix responsibility of the jail staff. Speaking to TOI, Randhawa said, “I had taken up the matter with ADGP (jails) and asked him to get the matter probed. The ADGP has deputed a DIG-level officer to investigate by concentrating on talking to the inmate who was beaten up and those who were around. We will reach to the bottom of the matter and anyone found guilty of dereliction of duty will be taken to task.” Rajinder was attacked in the jail on December 30 evening. With blunt injuries on the body, he was admitted to Guru Gobind Singh Medical College, Faridkot. Nishan Singh, who is serving a life sentence for abducting and raping a minor girl, is behind the attack. A case has been registered against Nishan and 17 others. Farmer organisation activists KKU presid'\n",
    "\n",
    "# Tokenize the text\n",
    "tokenized_text = word_tokenize(text)\n",
    "\n",
    "# Tag the tokenized text with NER labels\n",
    "classified_text = st.tag(tokenized_text)\n",
    "\n",
    "print(classified_text)\n"
   ]
  },
  {
   "cell_type": "code",
   "execution_count": 2,
   "metadata": {},
   "outputs": [],
   "source": [
    "import pandas as pd\n",
    "from fuzzywuzzy import fuzz\n",
    "from jellyfish import jaro_winkler_similarity\n",
    "import numpy as np"
   ]
  },
  {
   "cell_type": "code",
   "execution_count": 4,
   "metadata": {},
   "outputs": [],
   "source": [
    "data = {\n",
    "    'Valid Names': ['Narendra Modi', 'Arvind Kejriwal', 'Sundar Pichai', 'Yogi Adityanath']\n",
    "}\n",
    "names_df = pd.DataFrame(data)\n",
    "extracted_entities = ['Narandra Modi', 'Arbind Kejrival', 'Sunder Pichay', 'Yogi Adithyanath']"
   ]
  },
  {
   "cell_type": "code",
   "execution_count": 5,
   "metadata": {},
   "outputs": [],
   "source": [
    "def find_best_match(extracted_name, threshold=80):\n",
    "    best_score = 0\n",
    "    best_match = None\n",
    "    for valid_name in names_df['Valid Names']:\n",
    "        score = fuzz.ratio(extracted_name, valid_name)\n",
    "        if score > best_score:\n",
    "            best_score = score\n",
    "            best_match = valid_name\n",
    "    if best_score >= threshold:\n",
    "        return best_match, best_score\n",
    "    else:\n",
    "        return \"No good match\", best_score"
   ]
  },
  {
   "cell_type": "code",
   "execution_count": 6,
   "metadata": {},
   "outputs": [],
   "source": [
    "results = [find_best_match(name) for name in extracted_entities]\n",
    "\n",
    "# Display results\n",
    "results_df = pd.DataFrame(results, columns=['Best Match', 'Score'], index=extracted_entities)"
   ]
  },
  {
   "cell_type": "code",
   "execution_count": 7,
   "metadata": {},
   "outputs": [
    {
     "data": {
      "text/html": [
       "<div>\n",
       "<style scoped>\n",
       "    .dataframe tbody tr th:only-of-type {\n",
       "        vertical-align: middle;\n",
       "    }\n",
       "\n",
       "    .dataframe tbody tr th {\n",
       "        vertical-align: top;\n",
       "    }\n",
       "\n",
       "    .dataframe thead th {\n",
       "        text-align: right;\n",
       "    }\n",
       "</style>\n",
       "<table border=\"1\" class=\"dataframe\">\n",
       "  <thead>\n",
       "    <tr style=\"text-align: right;\">\n",
       "      <th></th>\n",
       "      <th>Best Match</th>\n",
       "      <th>Score</th>\n",
       "    </tr>\n",
       "  </thead>\n",
       "  <tbody>\n",
       "    <tr>\n",
       "      <th>Narandra Modi</th>\n",
       "      <td>Narendra Modi</td>\n",
       "      <td>92</td>\n",
       "    </tr>\n",
       "    <tr>\n",
       "      <th>Arbind Kejrival</th>\n",
       "      <td>Arvind Kejriwal</td>\n",
       "      <td>87</td>\n",
       "    </tr>\n",
       "    <tr>\n",
       "      <th>Sunder Pichay</th>\n",
       "      <td>Sundar Pichai</td>\n",
       "      <td>85</td>\n",
       "    </tr>\n",
       "    <tr>\n",
       "      <th>Yogi Adithyanath</th>\n",
       "      <td>Yogi Adityanath</td>\n",
       "      <td>97</td>\n",
       "    </tr>\n",
       "  </tbody>\n",
       "</table>\n",
       "</div>"
      ],
      "text/plain": [
       "                       Best Match  Score\n",
       "Narandra Modi       Narendra Modi     92\n",
       "Arbind Kejrival   Arvind Kejriwal     87\n",
       "Sunder Pichay       Sundar Pichai     85\n",
       "Yogi Adithyanath  Yogi Adityanath     97"
      ]
     },
     "execution_count": 7,
     "metadata": {},
     "output_type": "execute_result"
    }
   ],
   "source": [
    "results_df"
   ]
  },
  {
   "cell_type": "code",
   "execution_count": 1,
   "metadata": {},
   "outputs": [],
   "source": [
    "stanford_classifier = '/Users/vidur/Downloads/stanford-ner-2020-11-17/classifiers/english.muc.7class.distsim.crf.ser.gz'\n",
    "stanford_ner_path = '/Users/vidur/Downloads/stanford-ner-2020-11-17/stanford-ner-4.2.0.jar'\n",
    "csv_path = '/Users/vidur/Desktop/Capstone/MediaGraph/data/Graph DB data/POL.csv'"
   ]
  },
  {
   "cell_type": "code",
   "execution_count": 17,
   "metadata": {},
   "outputs": [
    {
     "name": "stdout",
     "output_type": "stream",
     "text": [
      "              Extracted Name   Suggested Correction  Score\n",
      "0  SUKHJINDER SINGH RANDHAWA       SUKHJINDER SINGH     90\n",
      "1             RAJINDER SINGH         RAJINDER SINGH    100\n",
      "2                   RANDHAWA  RATTAN SINGH RANDHAWA     90\n",
      "3               NISHAN SINGH                  NISHA     90\n",
      "4                     NISHAN                NISHANT     92\n"
     ]
    }
   ],
   "source": [
    "import nltk\n",
    "from nltk.tag import StanfordNERTagger\n",
    "from nltk.tokenize import word_tokenize\n",
    "import pandas as pd\n",
    "from fuzzywuzzy import process\n",
    "\n",
    "# Set the path to the Stanford NER Java executable and the classifier model\n",
    "\n",
    "\n",
    "# Create a StanfordNERTagger object\n",
    "st = StanfordNERTagger(stanford_classifier, stanford_ner_path, encoding='utf-8')\n",
    "\n",
    "# Example text\n",
    "text = 'BATHINDA: Punjab jails minister Sukhjinder Singh Randhawa has ordered an investigation into the December 30 assault on a farmer union’s vice-president in Faridkot jail. Randhawa said he had asked ADGP (jails) to find how a gangster and his henchmen beat up the inmate, Kirti Kisan Union vice president Rajinder Singh. An officer of the rank of deputy inspector general of police (DIG) has been asked to inquire into the matter and fix responsibility of the jail staff. Speaking to TOI, Randhawa said, “I had taken up the matter with ADGP (jails) and asked him to get the matter probed. The ADGP has deputed a DIG-level officer to investigate by concentrating on talking to the inmate who was beaten up and those who were around. We will reach to the bottom of the matter and anyone found guilty of dereliction of duty will be taken to task.” Rajinder was attacked in the jail on December 30 evening. With blunt injuries on the body, he was admitted to Guru Gobind Singh Medical College, Faridkot. Nishan Singh, who is serving a life sentence for abducting and raping a minor girl, is behind the attack. A case has been registered against Nishan and 17 others. Farmer organisation activists KKU presid'\n",
    "\n",
    "# Tokenize the text\n",
    "tokenized_text = word_tokenize(text)\n",
    "\n",
    "# Tag the tokenized text with NER labels\n",
    "classified_text = st.tag(tokenized_text)\n",
    "\n",
    "# Function to combine adjacent person tags\n",
    "def combine_adjacent_persons(classified_text):\n",
    "    combined_entities = []\n",
    "    current_person = []\n",
    "    for word, tag in classified_text:\n",
    "        if tag == 'PERSON':\n",
    "            current_person.append(word)\n",
    "        else:\n",
    "            if current_person:\n",
    "                combined_entities.append((\" \".join(current_person), 'PERSON'))\n",
    "                current_person = []\n",
    "            combined_entities.append((word, tag))\n",
    "    if current_person:  # Append the last found person entity if any\n",
    "        combined_entities.append((\" \".join(current_person), 'PERSON'))\n",
    "    return combined_entities\n",
    "\n",
    "# Combine adjacent person tags\n",
    "combined_classified_text = combine_adjacent_persons(classified_text)\n",
    "\n",
    "# Load valid names from CSV using the correct delimiter and ignoring the third column\n",
    "names_df = pd.read_csv(csv_path, delimiter='\\t', usecols=[1], header=None, names=['Valid Names'])\n",
    "names_df['Valid Names'] = names_df['Valid Names'].apply(lambda x: x.upper())\n",
    "\n",
    "# Function to find the best match from valid names for identified person entities\n",
    "def correct_combined_names(entities):\n",
    "    corrected_names = []\n",
    "    for entity in entities:\n",
    "        if entity[1] == 'PERSON':\n",
    "            name = entity[0].upper()\n",
    "            match = process.extractOne(name, names_df['Valid Names'], score_cutoff=60)\n",
    "            if match:\n",
    "                best_match, score, index = match\n",
    "                corrected_names.append((name, best_match, score))\n",
    "            else:\n",
    "                corrected_names.append((name, \"No Match Found\", 0))\n",
    "    return corrected_names\n",
    "\n",
    "# Correct names based on the combined entities\n",
    "corrected_names = correct_combined_names(combined_classified_text)\n",
    "\n",
    "# Output the results\n",
    "corrected_df = pd.DataFrame(corrected_names, columns=['Extracted Name', 'Suggested Correction', 'Score'])\n",
    "print(corrected_df)\n"
   ]
  },
  {
   "cell_type": "code",
   "execution_count": 6,
   "metadata": {},
   "outputs": [],
   "source": [
    "stanford_classifier = '/Users/vidur/Downloads/stanford-ner-2020-11-17/classifiers/english.muc.7class.distsim.crf.ser.gz'\n",
    "stanford_ner_path = '/Users/vidur/Downloads/stanford-ner-2020-11-17/stanford-ner-4.2.0.jar'\n",
    "csv_path = '/Users/vidur/Desktop/Capstone/MediaGraph/data/Parsed_data_2020.csv'"
   ]
  },
  {
   "cell_type": "code",
   "execution_count": 9,
   "metadata": {},
   "outputs": [],
   "source": [
    "import nltk\n",
    "from nltk.tag import StanfordNERTagger\n",
    "from nltk.tokenize import word_tokenize\n",
    "import pandas as pd\n",
    "from fuzzywuzzy import process\n",
    "\n",
    "\n",
    "\n",
    "# Create a StanfordNERTagger object\n",
    "st = StanfordNERTagger(stanford_classifier, stanford_ner_path, encoding='utf-8')\n",
    "\n",
    "# Load the input CSV with the specified columns\n",
    "input_df = pd.read_csv(csv_path, usecols=['id', 'publish_date', 'title', 'parsed_text'])\n",
    "\n",
    "# Load a list of known names or person entities for fuzzy matching\n",
    "names_df = pd.read_csv('/Users/vidur/Desktop/Capstone/MediaGraph/data/Graph DB data/POL.csv', delimiter='\\t', usecols=[1], header=None, names=['Valid Names'])\n",
    "names_df['Valid Names'] = names_df['Valid Names'].apply(lambda x: x.upper())\n",
    "\n",
    "# Process each row for NER and entity correction\n",
    "def process_text(row):\n",
    "    tokenized_text = word_tokenize(row['parsed_text'])\n",
    "    classified_text = st.tag(tokenized_text)\n",
    "    corrected_entities = []\n",
    "    for word, tag in classified_text:\n",
    "        if tag == 'ORG' and process.extractOne(word.upper(), names_df['Valid Names'], score_cutoff=90):\n",
    "            corrected_entities.append((word, 'PERSON'))  # Change to PERSON if matched\n",
    "        else:\n",
    "            corrected_entities.append((word, tag))\n",
    "    return corrected_entities\n",
    "\n",
    "# Apply the text processing function\n",
    "input_df['Entities'] = input_df.apply(process_text, axis=1)\n",
    "\n",
    "output_df = input_df[['id', 'Entities']]\n",
    "\n",
    "# Save the results to a CSV file\n",
    "output_df.to_csv('path_to_output.csv', index=False)\n"
   ]
  },
  {
   "cell_type": "code",
   "execution_count": 21,
   "metadata": {},
   "outputs": [
    {
     "name": "stdout",
     "output_type": "stream",
     "text": [
      "WORD : Aurangabad\n",
      "WORD : :\n",
      "WORD : The\n",
      "WORD : 49-year-old\n",
      "WORD : farmer\n",
      "WORD : ,\n",
      "WORD : who\n",
      "WORD : set\n",
      "WORD : himself\n",
      "WORD : ablaze\n",
      "WORD : inside\n",
      "WORD : the\n",
      "WORD : irrigation\n",
      "WORD : department\n",
      "WORD : office\n",
      "WORD : in\n",
      "WORD : Beed\n",
      "WORD : on\n",
      "WORD : Tuesday\n",
      "WORD : ,\n",
      "WORD : has\n",
      "WORD : succumbed\n",
      "WORD : to\n",
      "WORD : the\n",
      "WORD : burns\n",
      "WORD : while\n",
      "WORD : undergoing\n",
      "WORD : treatment\n",
      "WORD : at\n",
      "WORD : the\n",
      "WORD : Government\n",
      "WORD : Medical\n",
      "WORD : College\n",
      "WORD : and\n",
      "WORD : Hospital\n",
      "WORD : (\n",
      "WORD : GMCH\n",
      "WORD : )\n",
      "WORD : .Following\n",
      "WORD : the\n",
      "WORD : farmer\n"
     ]
    },
    {
     "name": "stderr",
     "output_type": "stream",
     "text": [
      "WARNING:root:Applied processor reduces input query to empty string, all comparisons will have score 0. [Query: '’']\n",
      "WARNING:root:Applied processor reduces input query to empty string, all comparisons will have score 0. [Query: '’']\n",
      "WARNING:root:Applied processor reduces input query to empty string, all comparisons will have score 0. [Query: '’']\n"
     ]
    },
    {
     "name": "stdout",
     "output_type": "stream",
     "text": [
      "WORD : ’\n"
     ]
    },
    {
     "name": "stderr",
     "output_type": "stream",
     "text": [
      "WARNING:root:Applied processor reduces input query to empty string, all comparisons will have score 0. [Query: '’']\n",
      "WARNING:root:Applied processor reduces input query to empty string, all comparisons will have score 0. [Query: '’']\n",
      "WARNING:root:Applied processor reduces input query to empty string, all comparisons will have score 0. [Query: '’']\n"
     ]
    },
    {
     "name": "stdout",
     "output_type": "stream",
     "text": [
      "WORD : s\n",
      "WORD : death\n",
      "WORD : ,\n",
      "WORD : Shivajinagar\n",
      "WORD : police\n",
      "WORD : have\n",
      "WORD : registered\n",
      "WORD : an\n",
      "WORD : abetment\n",
      "WORD : of\n",
      "WORD : suicide\n",
      "WORD : case\n",
      "WORD : against\n",
      "WORD : three\n",
      "WORD : government\n",
      "WORD : officials\n"
     ]
    },
    {
     "name": "stderr",
     "output_type": "stream",
     "text": [
      "WARNING:root:Applied processor reduces input query to empty string, all comparisons will have score 0. [Query: '—']\n",
      "WARNING:root:Applied processor reduces input query to empty string, all comparisons will have score 0. [Query: '—']\n",
      "WARNING:root:Applied processor reduces input query to empty string, all comparisons will have score 0. [Query: '—']\n"
     ]
    },
    {
     "name": "stdout",
     "output_type": "stream",
     "text": [
      "WORD : —\n"
     ]
    },
    {
     "name": "stderr",
     "output_type": "stream",
     "text": [
      "WARNING:root:Applied processor reduces input query to empty string, all comparisons will have score 0. [Query: '—']\n",
      "WARNING:root:Applied processor reduces input query to empty string, all comparisons will have score 0. [Query: '—']\n",
      "WARNING:root:Applied processor reduces input query to empty string, all comparisons will have score 0. [Query: '—']\n"
     ]
    },
    {
     "name": "stdout",
     "output_type": "stream",
     "text": [
      "WORD : irrigation\n",
      "WORD : department\n"
     ]
    },
    {
     "name": "stderr",
     "output_type": "stream",
     "text": [
      "WARNING:root:Applied processor reduces input query to empty string, all comparisons will have score 0. [Query: '’']\n",
      "WARNING:root:Applied processor reduces input query to empty string, all comparisons will have score 0. [Query: '’']\n",
      "WARNING:root:Applied processor reduces input query to empty string, all comparisons will have score 0. [Query: '’']\n"
     ]
    },
    {
     "name": "stdout",
     "output_type": "stream",
     "text": [
      "WORD : ’\n"
     ]
    },
    {
     "name": "stderr",
     "output_type": "stream",
     "text": [
      "WARNING:root:Applied processor reduces input query to empty string, all comparisons will have score 0. [Query: '’']\n",
      "WARNING:root:Applied processor reduces input query to empty string, all comparisons will have score 0. [Query: '’']\n",
      "WARNING:root:Applied processor reduces input query to empty string, all comparisons will have score 0. [Query: '’']\n"
     ]
    },
    {
     "name": "stdout",
     "output_type": "stream",
     "text": [
      "WORD : s\n",
      "WORD : executive\n",
      "WORD : engineer\n",
      "WORD : ,\n",
      "WORD : deputy\n",
      "WORD : collector\n",
      "WORD : and\n",
      "WORD : deputy\n",
      "WORD : superintendent\n",
      "WORD : of\n",
      "WORD : land\n",
      "WORD : records.The\n",
      "WORD : farmer\n"
     ]
    },
    {
     "name": "stderr",
     "output_type": "stream",
     "text": [
      "WARNING:root:Applied processor reduces input query to empty string, all comparisons will have score 0. [Query: '’']\n",
      "WARNING:root:Applied processor reduces input query to empty string, all comparisons will have score 0. [Query: '’']\n",
      "WARNING:root:Applied processor reduces input query to empty string, all comparisons will have score 0. [Query: '’']\n"
     ]
    },
    {
     "name": "stdout",
     "output_type": "stream",
     "text": [
      "WORD : ’\n"
     ]
    },
    {
     "name": "stderr",
     "output_type": "stream",
     "text": [
      "WARNING:root:Applied processor reduces input query to empty string, all comparisons will have score 0. [Query: '’']\n",
      "WARNING:root:Applied processor reduces input query to empty string, all comparisons will have score 0. [Query: '’']\n",
      "WARNING:root:Applied processor reduces input query to empty string, all comparisons will have score 0. [Query: '’']\n"
     ]
    },
    {
     "name": "stdout",
     "output_type": "stream",
     "text": [
      "WORD : s\n",
      "WORD : family\n",
      "WORD : has\n",
      "WORD : claimed\n",
      "WORD : that\n",
      "WORD : the\n",
      "WORD : deceased\n",
      "WORD : had\n",
      "WORD : approached\n",
      "WORD : the\n",
      "WORD : irrigation\n",
      "WORD : department\n",
      "WORD : for\n",
      "WORD : appropriate\n",
      "WORD : compensation\n",
      "WORD : for\n",
      "WORD : their\n",
      "WORD : hereditary\n",
      "WORD : land\n",
      "WORD : acquired\n",
      "WORD : by\n",
      "WORD : the\n",
      "WORD : irrigation\n",
      "WORD : department\n",
      "WORD : ,\n",
      "WORD : but\n",
      "WORD : his\n",
      "WORD : plea\n",
      "WORD : fell\n",
      "WORD : on\n",
      "WORD : deaf\n",
      "WORD : ears.The\n",
      "WORD : deceased\n",
      "WORD : ,\n",
      "WORD : Arjun\n",
      "WORD : Salunke\n",
      "WORD : ,\n",
      "WORD : who\n",
      "WORD : was\n",
      "WORD : from\n",
      "WORD : Pali\n",
      "WORD : village\n",
      "WORD : of\n",
      "WORD : Beed\n",
      "WORD : ,\n",
      "WORD : had\n",
      "WORD : suffered\n",
      "WORD : 90\n",
      "WORD : %\n",
      "WORD : burns\n",
      "WORD : and\n",
      "WORD : was\n",
      "WORD : taken\n",
      "WORD : to\n",
      "WORD : the\n",
      "WORD : Beed\n",
      "WORD : civil\n",
      "WORD : hospital\n",
      "WORD : from\n",
      "WORD : where\n",
      "WORD : he\n",
      "WORD : was\n",
      "WORD : sent\n",
      "WORD : to\n",
      "WORD : the\n",
      "WORD : GMCH.Superintendent\n",
      "WORD : of\n",
      "WORD : police\n",
      "WORD : R\n",
      "WORD : Raja\n",
      "WORD : said\n"
     ]
    },
    {
     "name": "stderr",
     "output_type": "stream",
     "text": [
      "WARNING:root:Applied processor reduces input query to empty string, all comparisons will have score 0. [Query: '“']\n",
      "WARNING:root:Applied processor reduces input query to empty string, all comparisons will have score 0. [Query: '“']\n",
      "WARNING:root:Applied processor reduces input query to empty string, all comparisons will have score 0. [Query: '“']\n"
     ]
    },
    {
     "name": "stdout",
     "output_type": "stream",
     "text": [
      "WORD : ,\n",
      "WORD : “\n"
     ]
    },
    {
     "name": "stderr",
     "output_type": "stream",
     "text": [
      "WARNING:root:Applied processor reduces input query to empty string, all comparisons will have score 0. [Query: '“']\n",
      "WARNING:root:Applied processor reduces input query to empty string, all comparisons will have score 0. [Query: '“']\n",
      "WARNING:root:Applied processor reduces input query to empty string, all comparisons will have score 0. [Query: '“']\n"
     ]
    },
    {
     "name": "stdout",
     "output_type": "stream",
     "text": [
      "WORD : Based\n",
      "WORD : on\n",
      "WORD : the\n",
      "WORD : complaint\n",
      "WORD : lodged\n",
      "WORD : by\n",
      "WORD : the\n",
      "WORD : farmer\n"
     ]
    },
    {
     "name": "stderr",
     "output_type": "stream",
     "text": [
      "WARNING:root:Applied processor reduces input query to empty string, all comparisons will have score 0. [Query: '’']\n",
      "WARNING:root:Applied processor reduces input query to empty string, all comparisons will have score 0. [Query: '’']\n",
      "WARNING:root:Applied processor reduces input query to empty string, all comparisons will have score 0. [Query: '’']\n"
     ]
    },
    {
     "name": "stdout",
     "output_type": "stream",
     "text": [
      "WORD : ’\n"
     ]
    },
    {
     "name": "stderr",
     "output_type": "stream",
     "text": [
      "WARNING:root:Applied processor reduces input query to empty string, all comparisons will have score 0. [Query: '’']\n",
      "WARNING:root:Applied processor reduces input query to empty string, all comparisons will have score 0. [Query: '’']\n",
      "WARNING:root:Applied processor reduces input query to empty string, all comparisons will have score 0. [Query: '’']\n"
     ]
    },
    {
     "name": "stdout",
     "output_type": "stream",
     "text": [
      "WORD : s\n",
      "WORD : 19-year-old\n",
      "WORD : son\n",
      "WORD : ,\n",
      "WORD : a\n",
      "WORD : case\n",
      "WORD : has\n",
      "WORD : been\n",
      "WORD : registered\n",
      "WORD : against\n",
      "WORD : the\n",
      "WORD : three\n",
      "WORD : government\n",
      "WORD : employees.\n"
     ]
    },
    {
     "name": "stderr",
     "output_type": "stream",
     "text": [
      "WARNING:root:Applied processor reduces input query to empty string, all comparisons will have score 0. [Query: '”']\n",
      "WARNING:root:Applied processor reduces input query to empty string, all comparisons will have score 0. [Query: '”']\n",
      "WARNING:root:Applied processor reduces input query to empty string, all comparisons will have score 0. [Query: '”']\n"
     ]
    },
    {
     "name": "stdout",
     "output_type": "stream",
     "text": [
      "WORD : ”\n"
     ]
    },
    {
     "name": "stderr",
     "output_type": "stream",
     "text": [
      "WARNING:root:Applied processor reduces input query to empty string, all comparisons will have score 0. [Query: '”']\n",
      "WARNING:root:Applied processor reduces input query to empty string, all comparisons will have score 0. [Query: '”']\n",
      "WARNING:root:Applied processor reduces input query to empty string, all comparisons will have score 0. [Query: '”']\n"
     ]
    },
    {
     "name": "stdout",
     "output_type": "stream",
     "text": [
      "WORD : As\n",
      "WORD : per\n",
      "WORD : the\n",
      "WORD : complaint\n",
      "WORD : lodged\n",
      "WORD : by\n",
      "WORD : deceased\n"
     ]
    },
    {
     "name": "stderr",
     "output_type": "stream",
     "text": [
      "WARNING:root:Applied processor reduces input query to empty string, all comparisons will have score 0. [Query: '’']\n",
      "WARNING:root:Applied processor reduces input query to empty string, all comparisons will have score 0. [Query: '’']\n",
      "WARNING:root:Applied processor reduces input query to empty string, all comparisons will have score 0. [Query: '’']\n"
     ]
    },
    {
     "name": "stdout",
     "output_type": "stream",
     "text": [
      "WORD : ’\n"
     ]
    },
    {
     "name": "stderr",
     "output_type": "stream",
     "text": [
      "WARNING:root:Applied processor reduces input query to empty string, all comparisons will have score 0. [Query: '’']\n",
      "WARNING:root:Applied processor reduces input query to empty string, all comparisons will have score 0. [Query: '’']\n",
      "WARNING:root:Applied processor reduces input query to empty string, all comparisons will have score 0. [Query: '’']\n"
     ]
    },
    {
     "name": "stdout",
     "output_type": "stream",
     "text": [
      "WORD : s\n",
      "WORD : son\n",
      "WORD : ,\n",
      "WORD : his\n",
      "WORD : father\n",
      "WORD : was\n",
      "WORD : following\n",
      "WORD : up\n",
      "WORD : with\n",
      "WORD : the\n",
      "WORD : authorities\n",
      "WORD : from\n",
      "WORD : land\n",
      "WORD : acquisition\n",
      "WORD : department\n",
      "WORD : ,\n",
      "WORD : irrigation\n",
      "WORD : department\n",
      "WORD : and\n",
      "WORD : land\n",
      "WORD : records\n",
      "WORD : office\n",
      "WORD : ,\n",
      "WORD : for\n",
      "WORD : the\n",
      "WORD : past\n",
      "WORD : 15\n",
      "WORD : years\n",
      "WORD : .\n"
     ]
    }
   ],
   "source": [
    "import pandas as pd\n",
    "import nltk\n",
    "from nltk.tag import StanfordNERTagger\n",
    "from nltk.tokenize import word_tokenize\n",
    "from fuzzywuzzy import process\n",
    "import string\n",
    "\n",
    "# Create a StanfordNERTagger object\n",
    "st = StanfordNERTagger(stanford_classifier, stanford_ner_path, encoding='utf-8')\n",
    "\n",
    "# Load the input CSV with the specified columns, limit to the first 10 rows\n",
    "input_df = pd.read_csv(csv_path, usecols=['id', 'parsed_text']).head(1)\n",
    "\n",
    "# Define categories and paths with specific columns for names\n",
    "categories = {\n",
    "    'POL': ('politician', '/Users/vidur/Desktop/Capstone/MediaGraph/data/Graph DB data/POL.csv', 1, '\\t', False),\n",
    "    'COMP': ('company', '/Users/vidur/Desktop/Capstone/MediaGraph/data/Graph DB data/COMP.csv', 1, '\\t', False),\n",
    "    'DIR': ('director', '/Users/vidur/Desktop/Capstone/MediaGraph/data/Graph DB data/DIR.csv', 1, '\\t', False),\n",
    "    'BUREAUCRAT': ('bureaucrat', '/Users/vidur/Desktop/Capstone/MediaGraph/data/dir/bureaucrat.csv', 1, ',', False),\n",
    "    'PROWESS_DIRECTORS': ('director', '/Users/vidur/Desktop/Capstone/MediaGraph/data/dir/prowess director.csv', 'directors_name', ',', True),\n",
    "    'IAS': ('IAS', '/Users/vidur/Desktop/Capstone/MediaGraph/data/Graph DB data/IAS.csv', 1, '\\t', False)\n",
    "}\n",
    "\n",
    "# Load multiple name lists and categorize them\n",
    "name_dfs = {}\n",
    "for category, (label, path, name_col, delimiter, has_header) in categories.items():\n",
    "    try:\n",
    "        if has_header:\n",
    "            df = pd.read_csv(path, delimiter=delimiter, low_memory=False)\n",
    "            if name_col not in df.columns:\n",
    "                print(f\"Column '{name_col}' not found in {path}\")\n",
    "                continue\n",
    "            df['Valid Names'] = df[name_col].astype(str).str.upper()\n",
    "            df = df[['Valid Names']]\n",
    "        else:\n",
    "            df = pd.read_csv(path, delimiter=delimiter, header=None)\n",
    "            df['Valid Names'] = df.iloc[:, name_col].astype(str).str.upper()\n",
    "            df = df[['Valid Names']]\n",
    "        name_dfs[category] = (label, df)\n",
    "    except Exception as e:\n",
    "        print(f\"Error reading or processing {path}: {e}\")\n",
    "\n",
    "# Function to process text and correct entities\n",
    "def process_text(row):\n",
    "    tokenized_text = word_tokenize(row['parsed_text'])\n",
    "    classified_text = st.tag(tokenized_text)\n",
    "    corrected_entities = []\n",
    "    for word, tag in classified_text:\n",
    "        print(\"WORD :\", word)\n",
    "        if word in string.punctuation:\n",
    "            corrected_entities.append((word, tag))\n",
    "            continue\n",
    "        corrected = False\n",
    "        for category, (label, df) in name_dfs.items():\n",
    "            match = process.extractOne(word.upper(), df['Valid Names'].tolist(), score_cutoff=90)\n",
    "            if match:\n",
    "                corrected_entities.append((word, label.upper()))\n",
    "                corrected = True\n",
    "                break\n",
    "        if not corrected:\n",
    "            corrected_entities.append((word, tag))\n",
    "    return corrected_entities\n",
    "\n",
    "# Apply the text processing function to each row\n",
    "input_df['Entities'] = input_df.apply(process_text, axis=1)\n",
    "\n",
    "# Prepare the DataFrame for saving, selecting only 'id' and 'Entities'\n",
    "output_df = input_df[['id', 'Entities']]\n",
    "\n",
    "# Save the results to a CSV file\n",
    "output_df.to_csv('path_to_output.csv', index=False)"
   ]
  },
  {
   "cell_type": "code",
   "execution_count": null,
   "metadata": {},
   "outputs": [],
   "source": []
  }
 ],
 "metadata": {
  "kernelspec": {
   "display_name": "mlops_tut",
   "language": "python",
   "name": "python3"
  },
  "language_info": {
   "codemirror_mode": {
    "name": "ipython",
    "version": 3
   },
   "file_extension": ".py",
   "mimetype": "text/x-python",
   "name": "python",
   "nbconvert_exporter": "python",
   "pygments_lexer": "ipython3",
   "version": "3.11.3"
  }
 },
 "nbformat": 4,
 "nbformat_minor": 2
}
